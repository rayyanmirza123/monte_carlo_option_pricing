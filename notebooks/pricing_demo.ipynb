{
 "cells": [
  {
   "cell_type": "code",
   "execution_count": 1,
   "id": "23802891",
   "metadata": {},
   "outputs": [],
   "source": [
    "import sys\n",
    "import os\n",
    "import matplotlib.pyplot as plt\n",
    "\n",
    "# Add the src directory to the path to import simulate_gbm\n",
    "sys.path.append(os.path.abspath(\"../src\"))\n",
    "from monte_carlo_sim import simulate_gbm\n",
    "\n",
    "# Parameters for GBM simulation\n",
    "S0 = 100        # initial stock price\n",
    "mu = 0.05       # expected return\n",
    "sigma = 0.2     # volatility\n",
    "T = 1.0         # time horizon (1 year)\n",
    "N = 252         # number of time steps\n",
    "M = 10          # number of simulated paths\n",
    "\n",
    "# Simulate GBM price paths\n",
    "paths = simulate_gbm(S0, mu, sigma, T, N, M)\n",
    "\n",
    "# Plot the simulated paths\n",
    "plt.figure(figsize=(10, 6))\n",
    "for i in range(M):\n",
    " plt.plot(paths[i], lw=1)\n",
    "plt.title('Simulated GBM Price Paths')\n",
    "plt.xlabel('Time Step')\n",
    "plt.ylabel('Price')\n",
    "plt.grid(True)\n",
    "plt.tight_layout()\n",
    "\n",
    "# Save the figure\n",
    "os.makedirs(\"../results\", exist_ok=True)\n",
    "plt.savefig(\"../results/sample_paths.png\")\n",
    "plt.close()"
   ]
  }
 ],
 "metadata": {
  "kernelspec": {
   "display_name": "Python 3",
   "language": "python",
   "name": "python3"
  },
  "language_info": {
   "name": "python",
   "version": "3.12.2"
  }
 },
 "nbformat": 4,
 "nbformat_minor": 5
}
